{
  "nbformat": 4,
  "nbformat_minor": 0,
  "metadata": {
    "colab": {
      "provenance": [],
      "collapsed_sections": [],
      "authorship_tag": "ABX9TyOMhqIZ3OyjWc3nSf0Oey7j",
      "include_colab_link": true
    },
    "kernelspec": {
      "name": "python3",
      "display_name": "Python 3"
    },
    "language_info": {
      "name": "python"
    },
    "widgets": {
      "application/vnd.jupyter.widget-state+json": {
        "879c36063996494f838cf56792e4a277": {
          "model_module": "itkwidgets",
          "model_name": "ViewerModel",
          "model_module_version": "^0.32.3",
          "state": {
            "_custom_cmap": null,
            "_dom_classes": [],
            "_downsampling": false,
            "_largest_roi": {
              "shape": [
                2,
                3
              ],
              "dtype": "float64"
            },
            "_model_module": "itkwidgets",
            "_model_module_version": "^0.32.3",
            "_model_name": "ViewerModel",
            "_rendering_image": false,
            "_reset_crop_requested": false,
            "_scale_factors": {
              "shape": [
                3
              ],
              "dtype": "uint8"
            },
            "_view_count": null,
            "_view_module": "itkwidgets",
            "_view_module_version": "^0.32.3",
            "_view_name": "ViewerView",
            "annotations": true,
            "axes": false,
            "background": [
              1,
              1,
              1
            ],
            "blend_mode": "composite",
            "camera": {
              "shape": [
                3,
                3
              ],
              "dtype": "float32"
            },
            "channels": [],
            "clicked_slice_point": null,
            "cmap": null,
            "geometries": [
              {
                "vtkClass": "vtkPolyData",
                "points": {
                  "vtkClass": "vtkPoints",
                  "name": "_points",
                  "numberOfComponents": 3,
                  "dataType": "Float32Array",
                  "size": 113127
                },
                "polys": {
                  "vtkClass": "vtkCellArray",
                  "name": "_polys",
                  "numberOfComponents": 1,
                  "size": 297792,
                  "dataType": "Uint32Array"
                },
                "pointData": {
                  "vtkClass": "vtkDataSetAttributes",
                  "activeScalars": 0,
                  "arrays": [
                    {
                      "data": {
                        "vtkClass": "vtkDataArray",
                        "name": "Potential",
                        "numberOfComponents": 1,
                        "size": 37709,
                        "dataType": "Float64Array"
                      }
                    }
                  ]
                },
                "metadata": {
                  "name": "Geometry 0"
                }
              }
            ],
            "geometry_colors": {
              "shape": [
                1,
                3
              ],
              "dtype": "float32"
            },
            "geometry_opacities": {
              "shape": [
                1
              ],
              "dtype": "float32"
            },
            "gradient_opacity": 0.2,
            "interpolation": true,
            "label_image_blend": 0.5,
            "label_image_names": null,
            "label_image_weights": null,
            "layout": "IPY_MODEL_9909618c7e094b89a48691b846d305a1",
            "lut": "glasbey",
            "mode": "v",
            "opacity_gaussians": null,
            "point_set_colors": {
              "shape": [
                0,
                3
              ],
              "dtype": "float32"
            },
            "point_set_opacities": {
              "shape": [
                0
              ],
              "dtype": "float32"
            },
            "point_set_representations": [],
            "point_set_sizes": {
              "shape": [
                0
              ],
              "dtype": "uint8"
            },
            "point_sets": [],
            "rendered_image": null,
            "rendered_label_image": null,
            "roi": {
              "shape": [
                2,
                3
              ],
              "dtype": "float64"
            },
            "rotate": false,
            "sample_distance": 0.25,
            "select_roi": false,
            "shadow": true,
            "slicing_planes": false,
            "ui_collapsed": true,
            "units": "",
            "vmax": null,
            "vmin": null,
            "x_slice": null,
            "y_slice": null,
            "z_slice": null
          }
        },
        "9909618c7e094b89a48691b846d305a1": {
          "model_module": "@jupyter-widgets/base",
          "model_name": "LayoutModel",
          "model_module_version": "1.2.0",
          "state": {
            "_model_module": "@jupyter-widgets/base",
            "_model_module_version": "1.2.0",
            "_model_name": "LayoutModel",
            "_view_count": null,
            "_view_module": "@jupyter-widgets/base",
            "_view_module_version": "1.2.0",
            "_view_name": "LayoutView",
            "align_content": null,
            "align_items": null,
            "align_self": null,
            "border": null,
            "bottom": null,
            "display": null,
            "flex": null,
            "flex_flow": null,
            "grid_area": null,
            "grid_auto_columns": null,
            "grid_auto_flow": null,
            "grid_auto_rows": null,
            "grid_column": null,
            "grid_gap": null,
            "grid_row": null,
            "grid_template_areas": null,
            "grid_template_columns": null,
            "grid_template_rows": null,
            "height": null,
            "justify_content": null,
            "justify_items": null,
            "left": null,
            "margin": null,
            "max_height": null,
            "max_width": null,
            "min_height": null,
            "min_width": null,
            "object_fit": null,
            "object_position": null,
            "order": null,
            "overflow": null,
            "overflow_x": null,
            "overflow_y": null,
            "padding": null,
            "right": null,
            "top": null,
            "visibility": null,
            "width": null
          }
        },
        "0153eb913d6e4673aca12d5081f29ae6": {
          "model_module": "itkwidgets",
          "model_name": "ViewerModel",
          "model_module_version": "^0.32.3",
          "state": {
            "_custom_cmap": null,
            "_dom_classes": [],
            "_downsampling": false,
            "_largest_roi": {
              "shape": [
                2,
                3
              ],
              "dtype": "float64"
            },
            "_model_module": "itkwidgets",
            "_model_module_version": "^0.32.3",
            "_model_name": "ViewerModel",
            "_rendering_image": false,
            "_reset_crop_requested": false,
            "_scale_factors": {
              "shape": [
                3
              ],
              "dtype": "uint8"
            },
            "_view_count": null,
            "_view_module": "itkwidgets",
            "_view_module_version": "^0.32.3",
            "_view_name": "ViewerView",
            "annotations": true,
            "axes": false,
            "background": [
              1,
              1,
              1
            ],
            "blend_mode": "composite",
            "camera": {
              "shape": [
                3,
                3
              ],
              "dtype": "float32"
            },
            "channels": [],
            "clicked_slice_point": null,
            "cmap": null,
            "geometries": [
              {
                "vtkClass": "vtkPolyData",
                "points": {
                  "vtkClass": "vtkPoints",
                  "name": "_points",
                  "numberOfComponents": 3,
                  "dataType": "Float32Array",
                  "size": 3506937
                },
                "polys": {
                  "vtkClass": "vtkCellArray",
                  "name": "_polys",
                  "numberOfComponents": 1,
                  "size": 2828175,
                  "dataType": "Uint32Array"
                },
                "pointData": {
                  "vtkClass": "vtkDataSetAttributes",
                  "activeScalars": 0,
                  "activeVectors": 1,
                  "arrays": [
                    {
                      "data": {
                        "vtkClass": "vtkDataArray",
                        "name": "GlyphScale",
                        "numberOfComponents": 1,
                        "size": 1168979,
                        "dataType": "Float32Array"
                      }
                    },
                    {
                      "data": {
                        "vtkClass": "vtkDataArray",
                        "name": "GlyphVector",
                        "numberOfComponents": 3,
                        "size": 3506937,
                        "dataType": "Float32Array"
                      }
                    }
                  ]
                },
                "metadata": {
                  "name": "Geometry 0"
                }
              },
              {
                "vtkClass": "vtkPolyData",
                "points": {
                  "vtkClass": "vtkPoints",
                  "name": "_points",
                  "numberOfComponents": 3,
                  "dataType": "Float32Array",
                  "size": 28647
                },
                "lines": {
                  "vtkClass": "vtkCellArray",
                  "name": "_lines",
                  "numberOfComponents": 1,
                  "size": 84480,
                  "dataType": "Uint32Array"
                },
                "metadata": {
                  "name": "Geometry 1"
                }
              }
            ],
            "geometry_colors": {
              "shape": [
                2,
                3
              ],
              "dtype": "float32"
            },
            "geometry_opacities": {
              "shape": [
                2
              ],
              "dtype": "float32"
            },
            "gradient_opacity": 0.2,
            "interpolation": true,
            "label_image_blend": 0.5,
            "label_image_names": null,
            "label_image_weights": null,
            "layout": "IPY_MODEL_45fa4cf98b0040e0be367705f4a3b8e7",
            "lut": "glasbey",
            "mode": "v",
            "opacity_gaussians": null,
            "point_set_colors": {
              "shape": [
                0,
                3
              ],
              "dtype": "float32"
            },
            "point_set_opacities": {
              "shape": [
                0
              ],
              "dtype": "float32"
            },
            "point_set_representations": [],
            "point_set_sizes": {
              "shape": [
                0
              ],
              "dtype": "uint8"
            },
            "point_sets": [],
            "rendered_image": null,
            "rendered_label_image": null,
            "roi": {
              "shape": [
                2,
                3
              ],
              "dtype": "float64"
            },
            "rotate": false,
            "sample_distance": 0.25,
            "select_roi": false,
            "shadow": true,
            "slicing_planes": false,
            "ui_collapsed": true,
            "units": "",
            "vmax": null,
            "vmin": null,
            "x_slice": null,
            "y_slice": null,
            "z_slice": null
          }
        },
        "45fa4cf98b0040e0be367705f4a3b8e7": {
          "model_module": "@jupyter-widgets/base",
          "model_name": "LayoutModel",
          "model_module_version": "1.2.0",
          "state": {
            "_model_module": "@jupyter-widgets/base",
            "_model_module_version": "1.2.0",
            "_model_name": "LayoutModel",
            "_view_count": null,
            "_view_module": "@jupyter-widgets/base",
            "_view_module_version": "1.2.0",
            "_view_name": "LayoutView",
            "align_content": null,
            "align_items": null,
            "align_self": null,
            "border": null,
            "bottom": null,
            "display": null,
            "flex": null,
            "flex_flow": null,
            "grid_area": null,
            "grid_auto_columns": null,
            "grid_auto_flow": null,
            "grid_auto_rows": null,
            "grid_column": null,
            "grid_gap": null,
            "grid_row": null,
            "grid_template_areas": null,
            "grid_template_columns": null,
            "grid_template_rows": null,
            "height": null,
            "justify_content": null,
            "justify_items": null,
            "left": null,
            "margin": null,
            "max_height": null,
            "max_width": null,
            "min_height": null,
            "min_width": null,
            "object_fit": null,
            "object_position": null,
            "order": null,
            "overflow": null,
            "overflow_x": null,
            "overflow_y": null,
            "padding": null,
            "right": null,
            "top": null,
            "visibility": null,
            "width": null
          }
        }
      }
    }
  },
  "cells": [
    {
      "cell_type": "markdown",
      "metadata": {
        "id": "view-in-github",
        "colab_type": "text"
      },
      "source": [
        "<a href=\"https://colab.research.google.com/github/JordanHT-OIT/electrodynamics/blob/master/midterm_project/PHY330_Midterm_Project_JHT.ipynb\" target=\"_parent\"><img src=\"https://colab.research.google.com/assets/colab-badge.svg\" alt=\"Open In Colab\"/></a>"
      ]
    },
    {
      "cell_type": "markdown",
      "source": [
        "{WIP} Put intoduction and context here"
      ],
      "metadata": {
        "id": "fO6wBGwydnrN"
      }
    },
    {
      "cell_type": "markdown",
      "source": [
        "\\begin{equation}\n",
        "\\Phi_{(\\rho,\\phi)} \\approx V + a_1\\rho^{\\frac{\\pi}{\\beta}}\\sin{\\frac{\\pi\\phi}{\\beta}}\n",
        "\\end{equation}"
      ],
      "metadata": {
        "id": "RizcdJhH7b6d"
      }
    },
    {
      "cell_type": "markdown",
      "source": [
        "\\begin{equation}\n",
        "a_1 = \\frac{-4V}{\\beta d^{\\frac{\\pi}{\\beta}}}\n",
        "\\end{equation}"
      ],
      "metadata": {
        "id": "mLOFVz2L7gci"
      }
    },
    {
      "cell_type": "markdown",
      "source": [
        "\\begin{equation}\n",
        "\\|E\\|_{(\\rho,\\phi)} \\approx \\sqrt{(\\frac{4V}{\\beta d^{\\frac{\\pi}{\\beta}}}\\rho^{\\frac{\\pi}{\\beta}-1}\\sin{\\frac{\\pi\\phi}{\\beta}})^2+(\\frac{4V}{\\beta d^{\\frac{\\pi}{\\beta}}}\\rho^{\\frac{\\pi}{\\beta}}\\cos{\\frac{\\pi\\phi}{\\beta}})^2}\n",
        "\\end{equation}"
      ],
      "metadata": {
        "id": "n4T2sCT27j3X"
      }
    },
    {
      "cell_type": "markdown",
      "source": [
        "![Diagram.png](data:image/png;base64,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)"
      ],
      "metadata": {
        "id": "9Pm7wLf08Tfw"
      }
    },
    {
      "cell_type": "code",
      "source": [
        "##Import required libraries (code by Jesse Kinder and FEM on Colab project):\n",
        "\n",
        "try:\n",
        "    # Import gmsh library for generating meshes.\n",
        "    import gmsh\n",
        "except ImportError:\n",
        "    # If it is not available, install it.  Then import it.\n",
        "    !wget \"https://fem-on-colab.github.io/releases/gmsh-install.sh\" -O \"/tmp/gmsh-install.sh\" && bash \"/tmp/gmsh-install.sh\"\n",
        "    import gmsh\n",
        "\n",
        "try:\n",
        "    # Import FEniCSx libraries for finite element analysis.\n",
        "    import dolfinx\n",
        "except ImportError:\n",
        "    # If they are not found, install them.  Then import them.\n",
        "    !wget \"https://fem-on-colab.github.io/releases/fenicsx-install-real.sh\" -O \"/tmp/fenicsx-install.sh\" && bash \"/tmp/fenicsx-install.sh\"\n",
        "    import dolfinx\n",
        "\n",
        "try:\n",
        "    # Import multiphenicsx, mainly for plotting.\n",
        "    import multiphenicsx\n",
        "except ImportError:\n",
        "    # If they are not found, install them.\n",
        "    !pip3 install \"multiphenicsx@git+https://github.com/multiphenics/multiphenicsx.git@8b97b4e\"\n",
        "    import multiphenicsx\n",
        "\n",
        "# Import the rest of what we need.\n",
        "import dolfinx.fem\n",
        "import dolfinx.io\n",
        "import gmsh\n",
        "import mpi4py.MPI\n",
        "import numpy as np\n",
        "import petsc4py.PETSc\n",
        "import ufl\n",
        "import multiphenicsx.fem\n",
        "import multiphenicsx.io"
      ],
      "metadata": {
        "id": "fyj8zIsBgZwB"
      },
      "execution_count": 17,
      "outputs": []
    },
    {
      "cell_type": "code",
      "execution_count": 18,
      "metadata": {
        "id": "TMUOaF8Udc57"
      },
      "outputs": [],
      "source": [
        "##Code by Jordan Harris-Toovy, OIT Fall term, 2022\n",
        "\n",
        "##Setup parametric variables and geometry:\n",
        "\n",
        "#Radius of the semi-circular \"tip\" of the cathode\n",
        "rad_circ = 1\n",
        "\n",
        "#Distance from the base of the semicircle to the anode\n",
        "dist_base = 5\n",
        "\n",
        "#Distance from the center of the base of the semicircle to the side boundaries\n",
        "dist_side = 5\n",
        "\n",
        "#Distance from the base of the semicircle to lower boundary\n",
        "dist_low = 5\n",
        "\n",
        "#Angle between the vertical and walls of the main cathode\n",
        "ang_wedge = (3.141592653589793/180) * 30\n",
        "\n",
        "#Anode-cathode potential difference\n",
        "pot_diff = 10\n",
        "\n",
        "#Conductor permittivity\n",
        "permi_cond = 1\n",
        "\n",
        "#Background permittivity\n",
        "permi_back = 1\n",
        "\n",
        "#Grid spacing\n",
        "grid_space = 0.1\n",
        "\n",
        "#Number of dimensions\n",
        "DIMS = 2"
      ]
    },
    {
      "cell_type": "code",
      "source": [
        "##Create gmsh system:\n",
        "\n",
        "gmsh.initialize()\n",
        "gmsh.model.add(\"mesh\")\n",
        "\n",
        "##Define geometry:\n",
        "\n",
        "#Cathode tip semicircle points & curve (center of model)\n",
        "pt_ori = gmsh.model.geo.addPoint(0, 0, 0, grid_space)\n",
        "pt_arc0 = gmsh.model.geo.addPoint(-rad_circ, 0,0, grid_space)\n",
        "pt_arc1 = gmsh.model.geo.addPoint(0, rad_circ, 0, grid_space)\n",
        "pt_arc2 = gmsh.model.geo.addPoint(rad_circ, 0, 0, grid_space)\n",
        "\n",
        "#Due to open arc not being able to have pi or greater angles in gmsh, the semicircle is made of two pi/2 arcs\n",
        "cont_arc0 = gmsh.model.geo.addCircleArc(pt_arc0, pt_ori, pt_arc1)\n",
        "cont_arc1 = gmsh.model.geo.addCircleArc(pt_arc1, pt_ori, pt_arc2)\n",
        "\n",
        "#Top boundary (anode) points & line\n",
        "pt_top0 = gmsh.model.geo.addPoint(-dist_side, dist_base, 0, grid_space)\n",
        "pt_top1 = gmsh.model.geo.addPoint(dist_side, dist_base, 0, grid_space)\n",
        "cont_top = gmsh.model.geo.addLine(pt_top0, pt_top1)\n",
        "\n",
        "#Side boundarie's points & lines\n",
        "pt_side0 = gmsh.model.geo.addPoint(-dist_side, -dist_low, 0, grid_space)\n",
        "pt_side1 = gmsh.model.geo.addPoint(dist_side, -dist_low, 0, grid_space)\n",
        "cont_side0 = gmsh.model.geo.addLine(pt_top0, pt_side0)\n",
        "cont_side1 = gmsh.model.geo.addLine(pt_top1, pt_side1)\n",
        "\n",
        "#Main cathode body points & lines\n",
        "pt_bot0 = gmsh.model.geo.addPoint((-1.0 * dist_low * np.tan(ang_wedge)), -dist_low, 0, grid_space)\n",
        "pt_bot1 = gmsh.model.geo.addPoint((dist_low * np.tan(ang_wedge)), -dist_low, 0, grid_space)\n",
        "cont_cath0 = gmsh.model.geo.addLine(pt_arc0, pt_bot0)\n",
        "cont_cath1 = gmsh.model.geo.addLine(pt_arc2, pt_bot1)\n",
        "cont_cath2 = gmsh.model.geo.addLine(pt_bot0, pt_bot1)\n",
        "\n",
        "#Remaining bottom segments\n",
        "cont_bot0 = gmsh.model.geo.addLine(pt_side0, pt_bot0)\n",
        "cont_bot1 = gmsh.model.geo.addLine(pt_side1, pt_bot1)\n",
        "\n",
        "#Define the central cavity\n",
        "cont_cav = gmsh.model.geo.addCurveLoops([cont_arc0, cont_arc1, cont_cath1, cont_bot1, cont_side1, cont_top, cont_side0, cont_bot0, cont_cath0])\n",
        "surf_cav = gmsh.model.geo.addPlaneSurface(cont_cav)\n",
        "\n",
        "#Apply new geometry\n",
        "gmsh.model.geo.synchronize()"
      ],
      "metadata": {
        "id": "-srPpKaLhJ7q"
      },
      "execution_count": 19,
      "outputs": []
    },
    {
      "cell_type": "code",
      "source": [
        "##Setup groups and assign properties\n",
        "\n",
        "#Cathode contours as physical groups 1-4\n",
        "gmsh.model.addPhysicalGroup(1, [cont_cath0], 1)\n",
        "gmsh.model.addPhysicalGroup(1, [cont_arc0], 2)\n",
        "gmsh.model.addPhysicalGroup(1, [cont_arc1], 3)\n",
        "gmsh.model.addPhysicalGroup(1, [cont_cath1], 4)\n",
        "\n",
        "#Anode line as physical group 5\n",
        "gmsh.model.addPhysicalGroup(1, [cont_top], 5)\n",
        "\n",
        "#Sidewall contours as physical groups 6-9\n",
        "gmsh.model.addPhysicalGroup(1, [cont_side0], 6)\n",
        "gmsh.model.addPhysicalGroup(1, [cont_bot0], 7)\n",
        "gmsh.model.addPhysicalGroup(1, [cont_side1], 8)\n",
        "gmsh.model.addPhysicalGroup(1, [cont_bot1], 9)\n",
        "\n",
        "\n",
        "#Setup domain in the central cavity surface as group 10\n",
        "gmsh.model.addPhysicalGroup(DIMS, [surf_cav], 10)\n",
        "\n",
        "##Create mesh\n",
        "gmsh.model.mesh.generate(DIMS)\n",
        "\n",
        "#Export mesh for external viewing (optional)\n",
        "gmsh.write(\"system_mesh.msh\")\n",
        "\n",
        "##Create FEniCSx objects from gmsh model\n",
        "FE_mesh, FE_subdoms, FE_bounds = dolfinx.io.gmshio.model_to_mesh(gmsh.model, comm=mpi4py.MPI.COMM_WORLD, rank=0, gdim=DIMS)\n",
        "\n",
        "#Finalize and exit gmsh system\n",
        "gmsh.finalize()"
      ],
      "metadata": {
        "id": "upJuY3LyQhBJ"
      },
      "execution_count": 20,
      "outputs": []
    },
    {
      "cell_type": "code",
      "source": [
        "##Rename FEniCSx object groups\n",
        "FE_cathode1 = FE_bounds.indices[FE_bounds.values == 1]\n",
        "FE_cathode2 = FE_bounds.indices[FE_bounds.values == 2]\n",
        "FE_cathode3 = FE_bounds.indices[FE_bounds.values == 3]\n",
        "FE_cathode4 = FE_bounds.indices[FE_bounds.values == 4]\n",
        "\n",
        "FE_anode = FE_bounds.indices[FE_bounds.values == 5]\n",
        "\n",
        "FE_swall1 = FE_bounds.indices[FE_bounds.values == 6]\n",
        "FE_swall2 = FE_bounds.indices[FE_bounds.values == 7]\n",
        "FE_swall3 = FE_bounds.indices[FE_bounds.values == 8]\n",
        "FE_swall4 = FE_bounds.indices[FE_bounds.values == 9]\n",
        "\n",
        "FE_cavity = FE_bounds.indices[FE_bounds.values == 10]\n",
        "\n",
        "##Plot the resultant geometric objects\n",
        "\n",
        "#Whole mesh (optional)\n",
        "#multiphenicsx.io.plot_mesh(FE_mesh)\n",
        "\n",
        "#Subdomains (optional)\n",
        "#multiphenicsx.io.plot_mesh_tags(FE_subdoms)\n",
        "\n",
        "#Boundaries (optional)\n",
        "#multiphenicsx.io.plot_mesh_tags(FE_bounds)"
      ],
      "metadata": {
        "id": "8D4ios9LUXMQ"
      },
      "execution_count": 21,
      "outputs": []
    },
    {
      "cell_type": "code",
      "source": [
        "#Define trial & test functions\n",
        "FE_TTSpace = dolfinx.fem.FunctionSpace(FE_mesh, (\"Lagrange\", 2))\n",
        "FE_trial = ufl.TrialFunction(FE_TTSpace)\n",
        "FE_test = ufl.TestFunction(FE_TTSpace)\n",
        "\n",
        "#Create FEM function\n",
        "FE_funct = dolfinx.fem.Function(FE_TTSpace)\n",
        "\n",
        "#Designate the domain\n",
        "FE_domain = FE_subdoms.indices[FE_subdoms.values == 1]\n",
        "\n",
        "#Set up boundaries\n",
        "FE_cathode_b1 = dolfinx.fem.locate_dofs_topological(FE_TTSpace, FE_bounds.dim, FE_cathode1)\n",
        "FE_cathode_b2 = dolfinx.fem.locate_dofs_topological(FE_TTSpace, FE_bounds.dim, FE_cathode2)\n",
        "FE_cathode_b3 = dolfinx.fem.locate_dofs_topological(FE_TTSpace, FE_bounds.dim, FE_cathode3)\n",
        "FE_cathode_b4 = dolfinx.fem.locate_dofs_topological(FE_TTSpace, FE_bounds.dim, FE_cathode4)\n",
        "\n",
        "FE_anode_b = dolfinx.fem.locate_dofs_topological(FE_TTSpace, FE_bounds.dim, FE_anode)\n",
        "\n",
        "FE_swall_b1 = dolfinx.fem.locate_dofs_topological(FE_TTSpace, FE_bounds.dim, FE_swall1)\n",
        "FE_swall_b2 = dolfinx.fem.locate_dofs_topological(FE_TTSpace, FE_bounds.dim, FE_swall2)\n",
        "FE_swall_b3 = dolfinx.fem.locate_dofs_topological(FE_TTSpace, FE_bounds.dim, FE_swall3)\n",
        "FE_swall_b4 = dolfinx.fem.locate_dofs_topological(FE_TTSpace, FE_bounds.dim, FE_swall4)\n",
        "\n",
        "#Define potentials for essential boundary conditions\n",
        "FE_anode_v = dolfinx.fem.Constant(FE_mesh, petsc4py.PETSc.ScalarType(0.0))\n",
        "FE_e_bound = [dolfinx.fem.dirichletbc(FE_anode_v, FE_anode_b, FE_TTSpace)]\n",
        "\n",
        "FE_cathode_v = dolfinx.fem.Constant(FE_mesh, petsc4py.PETSc.ScalarType(-1.0*pot_diff))\n",
        "FE_e_bound += [dolfinx.fem.dirichletbc(FE_cathode_v, FE_cathode_b1, FE_TTSpace)]\n",
        "FE_e_bound += [dolfinx.fem.dirichletbc(FE_cathode_v, FE_cathode_b2, FE_TTSpace)]\n",
        "FE_e_bound += [dolfinx.fem.dirichletbc(FE_cathode_v, FE_cathode_b3, FE_TTSpace)]\n",
        "FE_e_bound += [dolfinx.fem.dirichletbc(FE_cathode_v, FE_cathode_b4, FE_TTSpace)]"
      ],
      "metadata": {
        "id": "KQfSfPHFSJQk"
      },
      "execution_count": 22,
      "outputs": []
    },
    {
      "cell_type": "code",
      "source": [
        "#Laplace's equation (left side)\n",
        "LE_left = ufl.inner(ufl.grad(FE_trial), ufl.grad(FE_test)) * ufl.dx\n",
        "\n",
        "#Laplace's equation (right side)\n",
        "LE_right = (dolfinx.fem.Constant(FE_mesh, petsc4py.PETSc.ScalarType(0.0))) * FE_test * ufl.dx\n",
        "\n",
        "#Combine the parts of Laplace's equation into one object & solve\n",
        "FEA_system = dolfinx.fem.petsc.LinearProblem(LE_left, LE_right, FE_e_bound, u=FE_funct)\n",
        "FEA_system.solve()\n",
        "\n",
        "#Misc fixes\n",
        "FE_funct.vector.ghostUpdate(addv=petsc4py.PETSc.InsertMode.INSERT, mode=petsc4py.PETSc.ScatterMode.FORWARD)"
      ],
      "metadata": {
        "id": "E0Slws3wbOAA"
      },
      "execution_count": 23,
      "outputs": []
    },
    {
      "cell_type": "code",
      "source": [
        "#Display the solution of Laplace's equation\n",
        "multiphenicsx.io.plot_scalar_field(FE_funct, \"Potential\", warp_factor=1)"
      ],
      "metadata": {
        "colab": {
          "base_uri": "https://localhost:8080/",
          "height": 717,
          "referenced_widgets": [
            "879c36063996494f838cf56792e4a277",
            "9909618c7e094b89a48691b846d305a1"
          ]
        },
        "id": "yvKnX9xudiqy",
        "outputId": "8a3f3be0-4759-4c6e-f79f-19220695a2ce"
      },
      "execution_count": 24,
      "outputs": [
        {
          "output_type": "display_data",
          "data": {
            "text/plain": [
              "Viewer(geometries=[{'vtkClass': 'vtkPolyData', 'points': {'vtkClass': 'vtkPoints', 'name': '_points', 'numberO…"
            ],
            "application/vnd.jupyter.widget-view+json": {
              "version_major": 2,
              "version_minor": 0,
              "model_id": "879c36063996494f838cf56792e4a277"
            }
          },
          "metadata": {
            "application/vnd.jupyter.widget-view+json": {
              "colab": {
                "custom_widget_manager": {
                  "url": "https://ssl.gstatic.com/colaboratory-static/widgets/colab-cdn-widget-manager/d2e234f7cc04bf79/manager.min.js"
                }
              }
            }
          }
        },
        {
          "output_type": "display_data",
          "data": {
            "text/plain": [
              "Viewer(geometries=[{'vtkClass': 'vtkPolyData', 'points': {'vtkClass': 'vtkPoints', 'name': '_points', 'numberO…"
            ],
            "application/vnd.jupyter.widget-view+json": {
              "version_major": 2,
              "version_minor": 0,
              "model_id": "879c36063996494f838cf56792e4a277"
            }
          },
          "metadata": {
            "application/vnd.jupyter.widget-view+json": {
              "colab": {
                "custom_widget_manager": {
                  "url": "https://ssl.gstatic.com/colaboratory-static/widgets/colab-cdn-widget-manager/d2e234f7cc04bf79/manager.min.js"
                }
              }
            }
          }
        }
      ]
    },
    {
      "cell_type": "code",
      "source": [
        "#Setup a vector-space and compute the gradient of the potential, combine via interpolation\n",
        "FEA_vect_space = dolfinx.fem.VectorFunctionSpace(FE_mesh, (\"Lagrange\", 2))\n",
        "FEA_e_field = dolfinx.fem.Function(FEA_vect_space)\n",
        "FEA_ngrad_pot = dolfinx.fem.Expression(ufl.as_vector((-FE_funct.dx(0), -FE_funct.dx(1))), FEA_vect_space.element.interpolation_points())\n",
        "FEA_e_field.interpolate(FEA_ngrad_pot)\n",
        "\n",
        "#Plot the electric field\n",
        "multiphenicsx.io.plot_vector_field(FEA_e_field,name=\"Electric Field\", glyph_factor=0.1)"
      ],
      "metadata": {
        "colab": {
          "base_uri": "https://localhost:8080/",
          "height": 717,
          "referenced_widgets": [
            "0153eb913d6e4673aca12d5081f29ae6",
            "45fa4cf98b0040e0be367705f4a3b8e7"
          ]
        },
        "id": "n1XJgog2eKgN",
        "outputId": "2de67531-7aca-4203-9fce-f1086b4d393c"
      },
      "execution_count": 27,
      "outputs": [
        {
          "output_type": "display_data",
          "data": {
            "text/plain": [
              "Viewer(geometries=[{'vtkClass': 'vtkPolyData', 'points': {'vtkClass': 'vtkPoints', 'name': '_points', 'numberO…"
            ],
            "application/vnd.jupyter.widget-view+json": {
              "version_major": 2,
              "version_minor": 0,
              "model_id": "0153eb913d6e4673aca12d5081f29ae6"
            }
          },
          "metadata": {
            "application/vnd.jupyter.widget-view+json": {
              "colab": {
                "custom_widget_manager": {
                  "url": "https://ssl.gstatic.com/colaboratory-static/widgets/colab-cdn-widget-manager/d2e234f7cc04bf79/manager.min.js"
                }
              }
            }
          }
        },
        {
          "output_type": "display_data",
          "data": {
            "text/plain": [
              "Viewer(geometries=[{'vtkClass': 'vtkPolyData', 'points': {'vtkClass': 'vtkPoints', 'name': '_points', 'numberO…"
            ],
            "application/vnd.jupyter.widget-view+json": {
              "version_major": 2,
              "version_minor": 0,
              "model_id": "0153eb913d6e4673aca12d5081f29ae6"
            }
          },
          "metadata": {
            "application/vnd.jupyter.widget-view+json": {
              "colab": {
                "custom_widget_manager": {
                  "url": "https://ssl.gstatic.com/colaboratory-static/widgets/colab-cdn-widget-manager/d2e234f7cc04bf79/manager.min.js"
                }
              }
            }
          }
        }
      ]
    }
  ]
}
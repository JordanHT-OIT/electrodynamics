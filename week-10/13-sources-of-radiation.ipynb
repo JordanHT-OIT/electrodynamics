{
  "cells": [
    {
      "cell_type": "markdown",
      "metadata": {
        "id": "view-in-github",
        "colab_type": "text"
      },
      "source": [
        "<a href=\"https://colab.research.google.com/github/JordanHT-OIT/electrodynamics/blob/master/week-10/13-sources-of-radiation.ipynb\" target=\"_parent\"><img src=\"https://colab.research.google.com/assets/colab-badge.svg\" alt=\"Open In Colab\"/></a>"
      ]
    },
    {
      "cell_type": "markdown",
      "id": "6e300c92",
      "metadata": {
        "id": "6e300c92"
      },
      "source": [
        "# Dipole Radiation\n",
        "\n",
        "Any accelerating charge produces electromagnetic radiation.  If the charges in a neutral object — like an atom or a radio antenna — are undergoing periodic motion, we can approximate the system as an **oscillating electric dipole**.  As discussed in Chapter 9 of _CER_ or [Chapter 28 of the Feynman Lectures](https://www.feynmanlectures.caltech.edu/I_28.html), the __radiation field__ at point $\\vec{r}$ in the $xz$-plane far from a dipole oscillating along the $z$-axis at the origin is\n",
        "\n",
        "$$\\vec{E}(\\vec{r}, t) = \\dfrac{1}{c^2}\n",
        "\\, \\omega^2 p_0 \\sin \\theta\n",
        "\\, \\dfrac{\\cos \\omega(t - r/c)}{r}\n",
        "\\, (\\hat{e}_x \\cos \\theta - \\hat{e}_z \\sin \\theta)$$\n",
        "\n",
        "The goal of this exercise is to tame this expression and create a movie of an oscillating electric field.\n",
        "\n",
        "First, the variables:\n",
        "\n",
        "| Symbol | Meaning |\n",
        "| --- | --- |\n",
        "| $\\omega$ | angular frequency of oscillation |\n",
        "| $p_0$ | maximum dipole moment |\n",
        "| $c$ | speed of light |\n",
        "| $r$ | distance from origin to point of interest |\n",
        "| $t$ | current time |\n",
        "| $\\theta$ | angle from $y$-axis to point of interest |\n",
        "\n",
        "The final term in parentheses is a unit vector that gives the direction of the field.\n",
        "\n",
        "### Warm Up\n",
        "\n",
        "Our goal is to watch the electromagnetic waves propagate outward from the dipole as it oscillates.  This means we need to choose the time increments and spatial grid of points appropriately.  We need to ...\n",
        "\n",
        "- Determine the duration of the simulation if we want to watch 10 complete cycles of oscillation.\n",
        "\n",
        "- Determine the size of the grid if we want to see at least 5 wavelengths in each direction.\n",
        "\n",
        "- Determine a reasonable time increment `dt` and grid spacing `dx` for simulating red light with a wavelength of $700 \\ {\\tt nm}$.\n",
        "\n",
        "We do not have the computer hardware of lifespan to simulate a 1 billion by 1 billion grid of points for 10 billion time steps!\n",
        "\n",
        "___Solution:___\n",
        "\n",
        "- The wavelength of the light is $\\lambda = 7.0 \\, 10^{-7} \\ {\\tt m}$.\n",
        "\n",
        "- The period of a wave is $T = \\dfrac{1}{f} = \\dfrac{\\lambda}{c}$.  For red light, this works out to $T \\approx 2.335 \\cdot 10^{-15} \\ {\\tt s}$.\n",
        "\n",
        "___Dimensional Analysis:___\n",
        "\n",
        "These values are very small, and the frequency and speed of light are very large. We might run into roundoff error if we are not careful.  Instead, let's choose our units so that numerical values are on the order of 1.\n",
        "\n",
        "First, note that we can rewrite the argument of the cosine function as follows:\n",
        "$$\\omega(t - R/c) = 2\\pi \\left(\\dfrac{t}{T} - \\dfrac{r}{\\lambda}\\right)$$\n",
        "If we measure time in femtoseconds and distance in micrometers, all numbers in this expression will be of order 1.\n",
        "\n",
        "Second, we can now rewrite the expression for the electric field as follows:\n",
        "$$\\vec{E}(\\vec{r}, t)\n",
        "= E_0 \\, \\dfrac{\\lambda}{r} \\, \\cos 2\\pi \\left( \\dfrac{t}{T} - \\dfrac{r}{\\lambda}\\right)\n",
        "\\, (\\hat{e}_x \\cos \\theta - \\hat{e}_z \\sin \\theta)  \\sin \\theta\n",
        "$$\n",
        "where\n",
        "$$E_0 = \\dfrac{\\omega^2 p_0}{\\lambda c^2} = 4 \\pi^2 \\dfrac{p_0}{\\lambda^3}$$\n",
        "\n",
        "Different values of $E_0$ change the overall magnitude of the electric field, but not the relative size of the components at different points.  Thus, we can set $E_0 = 1$ during the calculation, and we can restore the units if we need to compute forces at another time.\n",
        "\n",
        "This type of dimensional analysis can greatly simplify codiing and often leads to more accurate results because you do not \"forget\" a factor $10^9$ somewhere in the code.\n",
        "\n",
        "Now, let's make a movie!"
      ]
    },
    {
      "cell_type": "code",
      "execution_count": 1,
      "id": "d638286d",
      "metadata": {
        "id": "d638286d"
      },
      "outputs": [],
      "source": [
        "import numpy as np\n",
        "import matplotlib.pyplot as plt\n",
        "from os import system\n",
        "from IPython.display import HTML, clear_output"
      ]
    },
    {
      "cell_type": "markdown",
      "id": "3dde9bb2",
      "metadata": {
        "id": "3dde9bb2"
      },
      "source": [
        "## Linear Dipole\n",
        "\n",
        "Our first simulation will illustrate the radiation field of a dipole oscillating along the z-axis.  This is much like the field created by a single radio tower.  Before you run the following cells, make some predictions.\n",
        "\n",
        "- What do you expect the field to look like?\n",
        "- In what directions will the strength of the field be strongest? Weakest?\n",
        "\n",
        "***Write your predictions below.***"
      ]
    },
    {
      "cell_type": "markdown",
      "id": "353e5358",
      "metadata": {
        "id": "353e5358"
      },
      "source": [
        "While I'm quite unsure, my guess would be that the radiated waves would be plane waves distributed in the dipole pattern from CER CH8 (mostly out on one of the orthogonal axes)."
      ]
    },
    {
      "cell_type": "code",
      "execution_count": 11,
      "id": "c79e6cc4",
      "metadata": {
        "id": "c79e6cc4",
        "outputId": "0cd00e2a-935a-4d1e-ab67-700c251fc61e",
        "colab": {
          "base_uri": "https://localhost:8080/"
        }
      },
      "outputs": [
        {
          "output_type": "stream",
          "name": "stdout",
          "text": []
        }
      ],
      "source": [
        "from scipy.constants import c as speed_of_light\n",
        "\n",
        "# Wavelength in m.\n",
        "lambda0 = 700e-9\n",
        "\n",
        "# Wavelength in um.\n",
        "wavelength = lambda0 * 1e6\n",
        "\n",
        "# Period in fs.\n",
        "period = 1e15 * lambda0 / speed_of_light\n",
        "\n",
        "# Define grid of points and array of times for plotting.\n",
        "t_max = period\n",
        "dt = period / 64\n",
        "t_values = np.arange(0, t_max + dt, dt)\n",
        "N = len(t_values)\n",
        "\n",
        "x_max = 3 * wavelength\n",
        "dx = wavelength / 10\n",
        "coordinates = np.arange(-x_max, x_max + dx, dx)\n",
        "\n",
        "X,Z = np.meshgrid(coordinates, coordinates)\n",
        "R = np.sqrt(X**2 + Z**2 + 1e-6)\n",
        "theta = np.arctan2(X,Z)\n",
        "\n",
        "# Define field strength and cutoff for rescaling large values.\n",
        "E0 = 2.0\n",
        "E_cut = 1.0\n",
        "R_cut = 0.5*wavelength\n",
        "\n",
        "# Remove any existing movie frames.\n",
        "system('rm -f *-linear-dipole.jpg')\n",
        "\n",
        "# It is essential that the frames be named in alphabetical order.\n",
        "# {:03d} will display integers with three digits and insert zeros if needed:\n",
        "# '000_movie.jpg', '001_movie.jpg', etc.\n",
        "file_name = \"{:03d}-linear-dipole.jpg\"\n",
        "\n",
        "\n",
        "plt.figure(figsize=(6,6), dpi=200)\n",
        "# Generate frames and save each figure as a separate .jpg file.\n",
        "for i, t in enumerate(t_values):\n",
        "    # Compute magnitude of field.\n",
        "    ## Dipole oscillating along z-axis.\n",
        "    #pz = np.cos(2*np.pi * (t/period))\n",
        "    #px = 0\n",
        "    #E =  -E0 * wavelength * np.sin(theta) * np.cos(2*np.pi * (t/period - R/wavelength)) / R\n",
        "    \n",
        "    ## Dipole oscillating along x-axis.\n",
        "    pz = 0\n",
        "    px = np.cos(2*np.pi * (t/period))    \n",
        "    E =  E0 * wavelength * np.cos(theta) * np.cos(2*np.pi * (t/period - R/wavelength)) / R\n",
        "\n",
        "    # Use this for the oscillating dipole.\n",
        "    Ex = E * np.cos(theta)\n",
        "    Ez = -E * np.sin(theta)\n",
        "\n",
        "    # Rescale large values.\n",
        "    Ex[R<R_cut] = 0\n",
        "    Ez[R<R_cut] = 0\n",
        "    E = np.sqrt(Ex**2 + Ez**2) \n",
        "    bad = E > E_cut\n",
        "    Ex[bad] = E_cut * Ex[bad] / E[bad]\n",
        "    Ez[bad] = E_cut * Ez[bad] / E[bad]\n",
        "    \n",
        "    # Make plot and save to file.\n",
        "    plt.quiver(X, Z, Ex, Ez, pivot='middle', lw=1, scale=40)\n",
        "    plt.quiver(0,0,px,pz, pivot='middle', color='red', lw=1, scale=10)\n",
        "    plt.xlabel('X [um]')\n",
        "    plt.ylabel('Z [um]')\n",
        "    plt.savefig(file_name.format(i))  # save current plot\n",
        "\n",
        "    # Clear plot for next frame.\n",
        "    plt.cla()\n",
        "    \n",
        "    print(\"Completed frame %d of %d.\\r\" % (i+1,N), end='')\n",
        "\n",
        "plt.close()"
      ]
    },
    {
      "cell_type": "code",
      "execution_count": 12,
      "id": "6a6ab05c",
      "metadata": {
        "id": "6a6ab05c",
        "outputId": "ecd7dd3d-a932-4230-d5f4-b089f10888d6",
        "colab": {
          "base_uri": "https://localhost:8080/"
        }
      },
      "outputs": [
        {
          "output_type": "stream",
          "name": "stdout",
          "text": [
            "ffmpeg version 3.4.11-0ubuntu0.1 Copyright (c) 2000-2022 the FFmpeg developers\n",
            "  built with gcc 7 (Ubuntu 7.5.0-3ubuntu1~18.04)\n",
            "  configuration: --prefix=/usr --extra-version=0ubuntu0.1 --toolchain=hardened --libdir=/usr/lib/x86_64-linux-gnu --incdir=/usr/include/x86_64-linux-gnu --enable-gpl --disable-stripping --enable-avresample --enable-avisynth --enable-gnutls --enable-ladspa --enable-libass --enable-libbluray --enable-libbs2b --enable-libcaca --enable-libcdio --enable-libflite --enable-libfontconfig --enable-libfreetype --enable-libfribidi --enable-libgme --enable-libgsm --enable-libmp3lame --enable-libmysofa --enable-libopenjpeg --enable-libopenmpt --enable-libopus --enable-libpulse --enable-librubberband --enable-librsvg --enable-libshine --enable-libsnappy --enable-libsoxr --enable-libspeex --enable-libssh --enable-libtheora --enable-libtwolame --enable-libvorbis --enable-libvpx --enable-libwavpack --enable-libwebp --enable-libx265 --enable-libxml2 --enable-libxvid --enable-libzmq --enable-libzvbi --enable-omx --enable-openal --enable-opengl --enable-sdl2 --enable-libdc1394 --enable-libdrm --enable-libiec61883 --enable-chromaprint --enable-frei0r --enable-libopencv --enable-libx264 --enable-shared\n",
            "  libavutil      55. 78.100 / 55. 78.100\n",
            "  libavcodec     57.107.100 / 57.107.100\n",
            "  libavformat    57. 83.100 / 57. 83.100\n",
            "  libavdevice    57. 10.100 / 57. 10.100\n",
            "  libavfilter     6.107.100 /  6.107.100\n",
            "  libavresample   3.  7.  0 /  3.  7.  0\n",
            "  libswscale      4.  8.100 /  4.  8.100\n",
            "  libswresample   2.  9.100 /  2.  9.100\n",
            "  libpostproc    54.  7.100 / 54.  7.100\n",
            "Input #0, image2, from '%03d-linear-dipole.jpg':\n",
            "  Duration: 00:00:02.60, start: 0.000000, bitrate: N/A\n",
            "    Stream #0:0: Video: mjpeg, yuvj420p(pc, bt470bg/unknown/unknown), 1200x1200 [SAR 200:200 DAR 1:1], 25 fps, 25 tbr, 25 tbn, 25 tbc\n",
            "Stream mapping:\n",
            "  Stream #0:0 -> #0:0 (mjpeg (native) -> h264 (libx264))\n",
            "Press [q] to stop, [?] for help\n",
            "\u001b[1;34m[swscaler @ 0x560d12162000] \u001b[0m\u001b[0;33mdeprecated pixel format used, make sure you did set range correctly\n",
            "\u001b[0m\u001b[1;36m[libx264 @ 0x560d12067e00] \u001b[0musing SAR=1/1\n",
            "\u001b[1;36m[libx264 @ 0x560d12067e00] \u001b[0musing cpu capabilities: MMX2 SSE2Fast SSSE3 SSE4.2 AVX FMA3 BMI2 AVX2\n",
            "\u001b[1;36m[libx264 @ 0x560d12067e00] \u001b[0mprofile High, level 4.0\n",
            "\u001b[1;36m[libx264 @ 0x560d12067e00] \u001b[0m264 - core 152 r2854 e9a5903 - H.264/MPEG-4 AVC codec - Copyleft 2003-2017 - http://www.videolan.org/x264.html - options: cabac=1 ref=3 deblock=1:0:0 analyse=0x3:0x113 me=hex subme=7 psy=1 psy_rd=1.00:0.00 mixed_ref=1 me_range=16 chroma_me=1 trellis=1 8x8dct=1 cqm=0 deadzone=21,11 fast_pskip=1 chroma_qp_offset=-2 threads=3 lookahead_threads=1 sliced_threads=0 nr=0 decimate=1 interlaced=0 bluray_compat=0 constrained_intra=0 bframes=3 b_pyramid=2 b_adapt=1 b_bias=0 direct=1 weightb=1 open_gop=0 weightp=2 keyint=250 keyint_min=25 scenecut=40 intra_refresh=0 rc_lookahead=40 rc=crf mbtree=1 crf=23.0 qcomp=0.60 qpmin=0 qpmax=69 qpstep=4 ip_ratio=1.40 aq=1:1.00\n",
            "Output #0, mp4, to 'linear-movie.mp4':\n",
            "  Metadata:\n",
            "    encoder         : Lavf57.83.100\n",
            "    Stream #0:0: Video: h264 (libx264) (avc1 / 0x31637661), yuv420p, 1200x1200 [SAR 1:1 DAR 1:1], q=-1--1, 25 fps, 12800 tbn, 25 tbc\n",
            "    Metadata:\n",
            "      encoder         : Lavc57.107.100 libx264\n",
            "    Side data:\n",
            "      cpb: bitrate max/min/avg: 0/0/0 buffer size: 0 vbv_delay: -1\n",
            "frame=   65 fps= 13 q=-1.0 Lsize=    2321kB time=00:00:02.48 bitrate=7667.9kbits/s speed=0.495x    \n",
            "video:2320kB audio:0kB subtitle:0kB other streams:0kB global headers:0kB muxing overhead: 0.059645%\n",
            "\u001b[1;36m[libx264 @ 0x560d12067e00] \u001b[0mframe I:1     Avg QP:22.83  size:135610\n",
            "\u001b[1;36m[libx264 @ 0x560d12067e00] \u001b[0mframe P:43    Avg QP:24.41  size: 45033\n",
            "\u001b[1;36m[libx264 @ 0x560d12067e00] \u001b[0mframe B:21    Avg QP:28.79  size: 14429\n",
            "\u001b[1;36m[libx264 @ 0x560d12067e00] \u001b[0mconsecutive B-frames: 56.9%  0.0%  0.0% 43.1%\n",
            "\u001b[1;36m[libx264 @ 0x560d12067e00] \u001b[0mmb I  I16..4: 27.8% 19.6% 52.6%\n",
            "\u001b[1;36m[libx264 @ 0x560d12067e00] \u001b[0mmb P  I16..4:  0.1%  0.1%  0.2%  P16..4: 12.1% 12.8% 17.7%  0.0%  0.0%    skip:56.9%\n",
            "\u001b[1;36m[libx264 @ 0x560d12067e00] \u001b[0mmb B  I16..4:  0.1%  0.0%  0.0%  B16..8:  6.2%  4.8%  7.1%  direct: 9.5%  skip:72.3%  L0:45.6% L1:36.0% BI:18.4%\n",
            "\u001b[1;36m[libx264 @ 0x560d12067e00] \u001b[0m8x8 transform intra:19.8% inter:5.2%\n",
            "\u001b[1;36m[libx264 @ 0x560d12067e00] \u001b[0mcoded y,uvDC,uvAC intra: 38.0% 0.2% 0.2% inter: 18.2% 0.0% 0.0%\n",
            "\u001b[1;36m[libx264 @ 0x560d12067e00] \u001b[0mi16 v,h,dc,p: 77% 15%  8%  0%\n",
            "\u001b[1;36m[libx264 @ 0x560d12067e00] \u001b[0mi8 v,h,dc,ddl,ddr,vr,hd,vl,hu: 52%  4% 43%  1%  0%  0%  0%  0%  0%\n",
            "\u001b[1;36m[libx264 @ 0x560d12067e00] \u001b[0mi4 v,h,dc,ddl,ddr,vr,hd,vl,hu: 43% 20% 13%  4%  5%  3%  5%  2%  5%\n",
            "\u001b[1;36m[libx264 @ 0x560d12067e00] \u001b[0mi8c dc,h,v,p: 100%  0%  0%  0%\n",
            "\u001b[1;36m[libx264 @ 0x560d12067e00] \u001b[0mWeighted P-Frames: Y:0.0% UV:0.0%\n",
            "\u001b[1;36m[libx264 @ 0x560d12067e00] \u001b[0mref P L0: 74.3%  9.6%  8.6%  7.5%\n",
            "\u001b[1;36m[libx264 @ 0x560d12067e00] \u001b[0mref B L0: 78.8% 10.5% 10.7%\n",
            "\u001b[1;36m[libx264 @ 0x560d12067e00] \u001b[0mref B L1: 97.7%  2.3%\n",
            "\u001b[1;36m[libx264 @ 0x560d12067e00] \u001b[0mkb/s:7307.74\n"
          ]
        }
      ],
      "source": [
        "!ffmpeg -y -i %03d-linear-dipole.jpg -pix_fmt yuv420p linear-movie.mp4"
      ]
    },
    {
      "cell_type": "code",
      "execution_count": 13,
      "id": "699fa3c2",
      "metadata": {
        "id": "699fa3c2",
        "outputId": "58ce0727-4bbf-43cc-f5f1-24106ccece71",
        "colab": {
          "base_uri": "https://localhost:8080/",
          "height": 821
        }
      },
      "outputs": [
        {
          "output_type": "execute_result",
          "data": {
            "text/plain": [
              "<IPython.core.display.HTML object>"
            ],
            "text/html": [
              "\n",
              "    <video width=\"800\" height=\"800\" alt=\"test\" controls loop>\n",
              "        <source src=linear-movie.mp4 type=\"video/mp4\">\n",
              "    </video>\n"
            ]
          },
          "metadata": {},
          "execution_count": 13
        }
      ],
      "source": [
        "# Play the movie within the notebook.\n",
        "HTML(\"\"\"\n",
        "    <video width=\"800\" height=\"800\" alt=\"test\" controls loop>\n",
        "        <source src=%s type=\"video/mp4\">\n",
        "    </video>\n",
        "\"\"\" % \"linear-movie.mp4\")"
      ]
    },
    {
      "cell_type": "markdown",
      "id": "a3b9ce21",
      "metadata": {
        "id": "a3b9ce21"
      },
      "source": [
        "### Questions\n",
        "\n",
        "Describe the field pattern.\n",
        "\n",
        "- What does the field to look like?\n",
        "- In what directions will the strength of the field be strongest? Weakest?\n",
        "\n",
        "***Report your observations below.***"
      ]
    },
    {
      "cell_type": "markdown",
      "id": "3b8b29d9",
      "metadata": {
        "id": "3b8b29d9"
      },
      "source": [
        "The field did follow my guess; there are waves traveling outward on the X-axis, distributed with the dipole pattern - highest amplitude on the axis, and sharply decreasing as it gets about 45 degrees off-axis."
      ]
    },
    {
      "cell_type": "markdown",
      "id": "47f3b8da",
      "metadata": {
        "id": "47f3b8da"
      },
      "source": [
        "Would you describe this radiation as a \"plane wave\"?  Why or why not?\n",
        "\n",
        "***Share your opinion below.***"
      ]
    },
    {
      "cell_type": "markdown",
      "id": "09c075af",
      "metadata": {
        "id": "09c075af"
      },
      "source": [
        "The wave pattern is transverse-spherical (except where there are no waves), so I would call this a spherical wave unless you are very far away from it."
      ]
    },
    {
      "cell_type": "markdown",
      "id": "79574a6a",
      "metadata": {
        "id": "79574a6a"
      },
      "source": [
        "**Different Axis**\n",
        "\n",
        "How would you expect the pattern to change if you rotated the dipole by 90°?\n",
        "\n",
        "***Report your prediction below.***"
      ]
    },
    {
      "cell_type": "markdown",
      "id": "9fea28cd",
      "metadata": {
        "id": "9fea28cd"
      },
      "source": [
        "I expect to see the whole system rotate by 90 degrees, with the highest amplitude of the waves on the Z-axis."
      ]
    },
    {
      "cell_type": "markdown",
      "id": "9390de6d",
      "metadata": {
        "id": "9390de6d"
      },
      "source": [
        "The code above contains instructions for viewing a dipole oscillating along the x-axis.\n",
        "\n",
        "Comment out the three lines below\n",
        "```\n",
        "    ## Dipole oscillating along z-axis.\n",
        "```\n",
        "Uncomment the three lines below\n",
        "```\n",
        "    ## Dipole oscillating along x-axis.\n",
        "```\n",
        "Rerun the simulation.\n",
        "\n",
        "- Describe what you see.\n",
        "- Assess your predictions.\n",
        "\n",
        "***Report your observations below.***"
      ]
    },
    {
      "cell_type": "markdown",
      "id": "046da479",
      "metadata": {
        "id": "046da479"
      },
      "source": [
        "Yep. It's now rotated by 90 degrees, just as predicted. All of the same observations from the previous configurations still apply, but rotated."
      ]
    },
    {
      "cell_type": "markdown",
      "id": "773d3dd3",
      "metadata": {
        "id": "773d3dd3"
      },
      "source": [
        "## Rotating Dipole\n",
        "\n",
        "Instead of a single dipole oscillating along the $y$-axis, analyze a dipole that is rotating in the $xy$-plane.  The dipole moment is\n",
        "\n",
        "$$\\vec{p}(t) = p_0 \\left(\\hat{e}_x \\cos \\omega t + \\hat{e}_z \\sin \\omega t \\right)$$\n",
        "\n",
        "This is equivalent to two _linear_ dipoles at right angles to each other, oscillating $90^\\circ$ out of phase.\n",
        "\n",
        "The code below simply adds together the fields of the two dipoles you just observed.  Before you run it, make some predictions.\n",
        "\n",
        "- What do you expect the field to look like?\n",
        "- In what directions will the strength of the field be strongest? Weakest?\n",
        "\n",
        "***Write your predictions below.***"
      ]
    },
    {
      "cell_type": "markdown",
      "id": "c43b4f82",
      "metadata": {
        "id": "c43b4f82"
      },
      "source": [
        "Again, looking to CER CH8, I think the waves will emanate from a rotating \"point\" (just like the circular motion cases), forming one of those strange looking sprials with the center joined. EDIT: I looked it up and figured out its called a parabolic spiral."
      ]
    },
    {
      "cell_type": "code",
      "execution_count": 28,
      "id": "2fcef72a",
      "metadata": {
        "id": "2fcef72a",
        "outputId": "587bfff0-ed9c-4cd7-daa5-7c3b60a25b70",
        "colab": {
          "base_uri": "https://localhost:8080/"
        }
      },
      "outputs": [
        {
          "output_type": "stream",
          "name": "stdout",
          "text": []
        }
      ],
      "source": [
        "from scipy.constants import c as speed_of_light\n",
        "\n",
        "# Wavelength in m.\n",
        "lambda0 = 700e-9\n",
        "\n",
        "# Wavelength in um.\n",
        "wavelength = lambda0 * 1e6\n",
        "\n",
        "# Period in fs.\n",
        "period = 1e15 * lambda0 / speed_of_light\n",
        "\n",
        "# Define grid of points and array of times for plotting.\n",
        "t_max = period\n",
        "dt = period / 64\n",
        "t_values = np.arange(0, t_max + dt, dt)\n",
        "N = len(t_values)\n",
        "\n",
        "x_max = 3 * wavelength\n",
        "dx = wavelength / 10\n",
        "coordinates = np.arange(-x_max, x_max + dx, dx)\n",
        "\n",
        "X,Z = np.meshgrid(coordinates, coordinates)\n",
        "R = np.sqrt(X**2 + Z**2 + 1e-6)\n",
        "theta = np.arctan2(X,Z)\n",
        "\n",
        "# Define field strength and cutoff for rescaling large values.\n",
        "E0 = 2.0\n",
        "E_cut = 1.0\n",
        "R_cut = 0.5*wavelength\n",
        "\n",
        "# Remove any existing movie frames.\n",
        "system('rm -f *-rotating-dipole.jpg')\n",
        "\n",
        "# It is essential that the frames be named in alphabetical order.\n",
        "# {:03d} will display integers with three digits and insert zeros if needed:\n",
        "# '000_movie.jpg', '001_movie.jpg', etc.\n",
        "file_name = \"{:03d}-rotating-dipole.jpg\"\n",
        "\n",
        "\n",
        "plt.figure(figsize=(6,6), dpi=200)\n",
        "# Generate frames and save each figure as a separate .jpg file.\n",
        "for i, t in enumerate(t_values):\n",
        "    # Plot the dipole that is creating the fields.\n",
        "    pz = np.cos(2*np.pi * (t/period))\n",
        "    px = -0.5*np.sin(2*np.pi * (t/period))\n",
        "\n",
        "    # Compute magnitudes of fields.\n",
        "    E1 = E0 * wavelength * np.sin(theta) * np.cos(2*np.pi * (t/period - R/wavelength)) / R\n",
        "    E2 = 0.5*E0 * wavelength * np.cos(theta) * np.sin(2*np.pi * (t/period - R/wavelength)) / R\n",
        "\n",
        "    Ex = (E1 + E2) * np.cos(theta)\n",
        "    Ez = -(E1 + E2) * np.sin(theta)\n",
        "\n",
        "    # Rescale large values.\n",
        "    Ex[R<R_cut] = 0\n",
        "    Ez[R<R_cut] = 0\n",
        "    E = np.sqrt(Ex**2 + Ez**2) \n",
        "    bad = E > E_cut\n",
        "    Ex[bad] = E_cut * Ex[bad] / E[bad]\n",
        "    Ez[bad] = E_cut * Ez[bad] / E[bad]\n",
        "\n",
        "    # Make plot and save to file.\n",
        "    plt.quiver(X, Z, Ex, Ez, pivot='middle', lw=1, scale=40)\n",
        "    plt.quiver(0,0,px,pz, pivot='middle', color='red', lw=1, scale=10)\n",
        "    plt.xlabel('X [um]')\n",
        "    plt.ylabel('Z [um]')\n",
        "    plt.savefig(file_name.format(i))  # save current plot\n",
        "\n",
        "    # Clear plot for next frame.\n",
        "    plt.cla()\n",
        "    \n",
        "    print(\"Completed frame %d of %d.\\r\" % (i+1,N), end='')\n",
        "\n",
        "plt.close()"
      ]
    },
    {
      "cell_type": "code",
      "execution_count": 29,
      "id": "e342ebf7",
      "metadata": {
        "id": "e342ebf7",
        "outputId": "b7966af0-dc06-49d6-f382-ce4801cb51dd",
        "colab": {
          "base_uri": "https://localhost:8080/"
        }
      },
      "outputs": [
        {
          "output_type": "stream",
          "name": "stdout",
          "text": [
            "ffmpeg version 3.4.11-0ubuntu0.1 Copyright (c) 2000-2022 the FFmpeg developers\n",
            "  built with gcc 7 (Ubuntu 7.5.0-3ubuntu1~18.04)\n",
            "  configuration: --prefix=/usr --extra-version=0ubuntu0.1 --toolchain=hardened --libdir=/usr/lib/x86_64-linux-gnu --incdir=/usr/include/x86_64-linux-gnu --enable-gpl --disable-stripping --enable-avresample --enable-avisynth --enable-gnutls --enable-ladspa --enable-libass --enable-libbluray --enable-libbs2b --enable-libcaca --enable-libcdio --enable-libflite --enable-libfontconfig --enable-libfreetype --enable-libfribidi --enable-libgme --enable-libgsm --enable-libmp3lame --enable-libmysofa --enable-libopenjpeg --enable-libopenmpt --enable-libopus --enable-libpulse --enable-librubberband --enable-librsvg --enable-libshine --enable-libsnappy --enable-libsoxr --enable-libspeex --enable-libssh --enable-libtheora --enable-libtwolame --enable-libvorbis --enable-libvpx --enable-libwavpack --enable-libwebp --enable-libx265 --enable-libxml2 --enable-libxvid --enable-libzmq --enable-libzvbi --enable-omx --enable-openal --enable-opengl --enable-sdl2 --enable-libdc1394 --enable-libdrm --enable-libiec61883 --enable-chromaprint --enable-frei0r --enable-libopencv --enable-libx264 --enable-shared\n",
            "  libavutil      55. 78.100 / 55. 78.100\n",
            "  libavcodec     57.107.100 / 57.107.100\n",
            "  libavformat    57. 83.100 / 57. 83.100\n",
            "  libavdevice    57. 10.100 / 57. 10.100\n",
            "  libavfilter     6.107.100 /  6.107.100\n",
            "  libavresample   3.  7.  0 /  3.  7.  0\n",
            "  libswscale      4.  8.100 /  4.  8.100\n",
            "  libswresample   2.  9.100 /  2.  9.100\n",
            "  libpostproc    54.  7.100 / 54.  7.100\n",
            "Input #0, image2, from '%03d-rotating-dipole.jpg':\n",
            "  Duration: 00:00:02.60, start: 0.000000, bitrate: N/A\n",
            "    Stream #0:0: Video: mjpeg, yuvj420p(pc, bt470bg/unknown/unknown), 1200x1200 [SAR 200:200 DAR 1:1], 25 fps, 25 tbr, 25 tbn, 25 tbc\n",
            "Stream mapping:\n",
            "  Stream #0:0 -> #0:0 (mjpeg (native) -> h264 (libx264))\n",
            "Press [q] to stop, [?] for help\n",
            "\u001b[1;34m[swscaler @ 0x55c28bf7c000] \u001b[0m\u001b[0;33mdeprecated pixel format used, make sure you did set range correctly\n",
            "\u001b[0m\u001b[1;36m[libx264 @ 0x55c28b6f1e00] \u001b[0musing SAR=1/1\n",
            "\u001b[1;36m[libx264 @ 0x55c28b6f1e00] \u001b[0musing cpu capabilities: MMX2 SSE2Fast SSSE3 SSE4.2 AVX FMA3 BMI2 AVX2\n",
            "\u001b[1;36m[libx264 @ 0x55c28b6f1e00] \u001b[0mprofile High, level 4.0\n",
            "\u001b[1;36m[libx264 @ 0x55c28b6f1e00] \u001b[0m264 - core 152 r2854 e9a5903 - H.264/MPEG-4 AVC codec - Copyleft 2003-2017 - http://www.videolan.org/x264.html - options: cabac=1 ref=3 deblock=1:0:0 analyse=0x3:0x113 me=hex subme=7 psy=1 psy_rd=1.00:0.00 mixed_ref=1 me_range=16 chroma_me=1 trellis=1 8x8dct=1 cqm=0 deadzone=21,11 fast_pskip=1 chroma_qp_offset=-2 threads=3 lookahead_threads=1 sliced_threads=0 nr=0 decimate=1 interlaced=0 bluray_compat=0 constrained_intra=0 bframes=3 b_pyramid=2 b_adapt=1 b_bias=0 direct=1 weightb=1 open_gop=0 weightp=2 keyint=250 keyint_min=25 scenecut=40 intra_refresh=0 rc_lookahead=40 rc=crf mbtree=1 crf=23.0 qcomp=0.60 qpmin=0 qpmax=69 qpstep=4 ip_ratio=1.40 aq=1:1.00\n",
            "Output #0, mp4, to 'rotating-movie.mp4':\n",
            "  Metadata:\n",
            "    encoder         : Lavf57.83.100\n",
            "    Stream #0:0: Video: h264 (libx264) (avc1 / 0x31637661), yuv420p, 1200x1200 [SAR 1:1 DAR 1:1], q=-1--1, 25 fps, 12800 tbn, 25 tbc\n",
            "    Metadata:\n",
            "      encoder         : Lavc57.107.100 libx264\n",
            "    Side data:\n",
            "      cpb: bitrate max/min/avg: 0/0/0 buffer size: 0 vbv_delay: -1\n",
            "frame=   65 fps= 12 q=-1.0 Lsize=    2687kB time=00:00:02.48 bitrate=8875.9kbits/s speed=0.457x    \n",
            "video:2686kB audio:0kB subtitle:0kB other streams:0kB global headers:0kB muxing overhead: 0.052106%\n",
            "\u001b[1;36m[libx264 @ 0x55c28b6f1e00] \u001b[0mframe I:1     Avg QP:23.57  size:152447\n",
            "\u001b[1;36m[libx264 @ 0x55c28b6f1e00] \u001b[0mframe P:43    Avg QP:25.59  size: 51712\n",
            "\u001b[1;36m[libx264 @ 0x55c28b6f1e00] \u001b[0mframe B:21    Avg QP:29.05  size: 17783\n",
            "\u001b[1;36m[libx264 @ 0x55c28b6f1e00] \u001b[0mconsecutive B-frames: 56.9%  0.0%  0.0% 43.1%\n",
            "\u001b[1;36m[libx264 @ 0x55c28b6f1e00] \u001b[0mmb I  I16..4: 24.6% 22.4% 53.0%\n",
            "\u001b[1;36m[libx264 @ 0x55c28b6f1e00] \u001b[0mmb P  I16..4:  0.1%  0.1%  0.2%  P16..4: 11.7% 14.5% 20.8%  0.0%  0.0%    skip:52.5%\n",
            "\u001b[1;36m[libx264 @ 0x55c28b6f1e00] \u001b[0mmb B  I16..4:  0.0%  0.0%  0.0%  B16..8:  6.2%  5.6%  8.6%  direct:11.1%  skip:68.3%  L0:43.8% L1:34.8% BI:21.4%\n",
            "\u001b[1;36m[libx264 @ 0x55c28b6f1e00] \u001b[0m8x8 transform intra:22.5% inter:5.0%\n",
            "\u001b[1;36m[libx264 @ 0x55c28b6f1e00] \u001b[0mcoded y,uvDC,uvAC intra: 41.0% 0.4% 0.4% inter: 21.1% 0.1% 0.1%\n",
            "\u001b[1;36m[libx264 @ 0x55c28b6f1e00] \u001b[0mi16 v,h,dc,p: 77% 13%  9%  1%\n",
            "\u001b[1;36m[libx264 @ 0x55c28b6f1e00] \u001b[0mi8 v,h,dc,ddl,ddr,vr,hd,vl,hu: 57%  4% 37%  1%  0%  0%  0%  0%  0%\n",
            "\u001b[1;36m[libx264 @ 0x55c28b6f1e00] \u001b[0mi4 v,h,dc,ddl,ddr,vr,hd,vl,hu: 43% 15% 13%  5%  5%  5%  5%  5%  4%\n",
            "\u001b[1;36m[libx264 @ 0x55c28b6f1e00] \u001b[0mi8c dc,h,v,p: 100%  0%  0%  0%\n",
            "\u001b[1;36m[libx264 @ 0x55c28b6f1e00] \u001b[0mWeighted P-Frames: Y:0.0% UV:0.0%\n",
            "\u001b[1;36m[libx264 @ 0x55c28b6f1e00] \u001b[0mref P L0: 68.8%  9.8% 10.4% 11.1%\n",
            "\u001b[1;36m[libx264 @ 0x55c28b6f1e00] \u001b[0mref B L0: 81.6%  8.3% 10.0%\n",
            "\u001b[1;36m[libx264 @ 0x55c28b6f1e00] \u001b[0mref B L1: 98.3%  1.7%\n",
            "\u001b[1;36m[libx264 @ 0x55c28b6f1e00] \u001b[0mkb/s:8459.99\n"
          ]
        }
      ],
      "source": [
        "!ffmpeg -y -i %03d-rotating-dipole.jpg -pix_fmt yuv420p rotating-movie.mp4"
      ]
    },
    {
      "cell_type": "code",
      "execution_count": 7,
      "id": "72407b9e",
      "metadata": {
        "id": "72407b9e",
        "outputId": "fd914b4e-3ae1-4b94-c109-27ab082a4d6c",
        "colab": {
          "base_uri": "https://localhost:8080/",
          "height": 821
        }
      },
      "outputs": [
        {
          "output_type": "execute_result",
          "data": {
            "text/plain": [
              "<IPython.core.display.HTML object>"
            ],
            "text/html": [
              "\n",
              "    <video width=\"800\" height=\"800\" alt=\"test\" controls loop>\n",
              "        <source src=rotating-movie.mp4 type=\"video/mp4\">\n",
              "    </video>\n"
            ]
          },
          "metadata": {},
          "execution_count": 7
        }
      ],
      "source": [
        "# Play the movie within the notebook.\n",
        "HTML(\"\"\"\n",
        "    <video width=\"800\" height=\"800\" alt=\"test\" controls loop>\n",
        "        <source src=%s type=\"video/mp4\">\n",
        "    </video>\n",
        "\"\"\" % \"rotating-movie.mp4\")"
      ]
    },
    {
      "cell_type": "markdown",
      "id": "f56308b8",
      "metadata": {
        "id": "f56308b8"
      },
      "source": [
        "### Questions\n",
        "\n",
        "Describe the field pattern.\n",
        "\n",
        "- What does the field to look like?\n",
        "- In what directions will the strength of the field be strongest? Weakest?\n",
        "\n",
        "***Report your observations below.***"
      ]
    },
    {
      "cell_type": "markdown",
      "id": "75c95745",
      "metadata": {
        "id": "75c95745"
      },
      "source": [
        "The field is somewhat similar to what I expected (though the center is not shown in the video), forming a two-branched time-evolving spiral instead of a single branched one. This could be because the rotation is not relativistically fast, but I'm not sure. The highest amplitude would of course be on a time-dependant curve, so there is no static point (or direction) which has a higher average amplitude then any other (in this plane at least)."
      ]
    },
    {
      "cell_type": "markdown",
      "id": "0579310b",
      "metadata": {
        "id": "0579310b"
      },
      "source": [
        "Would you describe this radiation as a \"plane wave\"?  Why or why not?\n",
        "\n",
        "***Share your opinion below.***"
      ]
    },
    {
      "cell_type": "markdown",
      "id": "332a5da9",
      "metadata": {
        "id": "332a5da9"
      },
      "source": [
        "Like with the previous dipole, unless you are very far away, I would describe this is anything but planar. I don't really know exactly what I would call this, but tentatively I would also call this a spherical wave."
      ]
    },
    {
      "cell_type": "markdown",
      "id": "9e88fc41",
      "metadata": {
        "id": "9e88fc41"
      },
      "source": [
        "Modify the code above to make the dipole rotate in the opposite direction ***and*** produce the correct radiation pattern.\n",
        "\n",
        "**Hint:** It only requires two minus signs ...\n",
        "\n",
        "- Describe your attempts and your results.\n",
        "- Why are only two minus signs required?\n",
        "\n",
        "***Report your observations below.***"
      ]
    },
    {
      "cell_type": "markdown",
      "id": "7b9e79b9",
      "metadata": {
        "id": "7b9e79b9"
      },
      "source": [
        "After playing around with the signs of the E1, E2, Ex, and Ey statements, I found that swapping the sign of just E2 (and pz) got the effects I was looking for. Tip: don't just go around changing **pairs** of signs, do them individually. Retrospectively, I sould have just picked one of the axes and reversed the sign first. <br>\n",
        "Changing the sign outside of a trigonometric function has the effect of 'reversing' its direction (too tired to explain the phase relation), so swapping just one axis adequate to change the direction of roataion (in fact, it wont work if an even number of axes are swapped). "
      ]
    },
    {
      "cell_type": "markdown",
      "id": "db4f7e77",
      "metadata": {
        "id": "db4f7e77"
      },
      "source": [
        "What would happen if the dipole along the x-axis were **half as large** as the dipole along the z-axis?\n",
        "\n",
        "- How do you think this would change the field pattern?  Why?\n",
        "\n",
        "***Report your predictions below.***"
      ]
    },
    {
      "cell_type": "markdown",
      "id": "457d217e",
      "metadata": {
        "id": "457d217e"
      },
      "source": [
        "I'm honestly not sure what making one half the size would do, but to make a wild guess, I think the 'ellipsoidal' dipole would behave somewhat like both the linear and rotating ones."
      ]
    },
    {
      "cell_type": "markdown",
      "id": "0b83589c",
      "metadata": {
        "id": "0b83589c"
      },
      "source": [
        "Modify the code above so that the dipole along the  x-axis is **half as large** as that along the z-axis.  You will need to modify `px` and `E2`.\n",
        "\n",
        "- How does this change the field pattern?\n",
        "\n",
        "***Report your observations below.***"
      ]
    },
    {
      "cell_type": "markdown",
      "id": "d679cb36",
      "metadata": {
        "id": "d679cb36"
      },
      "source": [
        "By slapping on a 0.5* to the front of px and E2, I think I got the desired effect. <br>\n",
        "This new behavior is indeed a combination of the two previous dipoles! It retains the same sprial pattern as the full-dual dipole, but the wave now also decreases in amplitude on the X-axis like the single dipole."
      ]
    },
    {
      "cell_type": "markdown",
      "id": "672834ea",
      "metadata": {
        "id": "672834ea"
      },
      "source": [
        "# Reflection and Summary\n",
        "\n",
        "- What are the major takeaways of this assignment for you?\n",
        "- What was the most difficult part of this assignment?\n",
        "- What was the most interesting part of this assignment?\n",
        "- What questions do you have?\n",
        "\n",
        "***Include your response below.***"
      ]
    },
    {
      "cell_type": "markdown",
      "id": "e4b840e6",
      "metadata": {
        "id": "e4b840e6"
      },
      "source": [
        "-  The major takeaway was that a rotating dipole can be emulated with two crossed oscillating dipoles, and that changing the 'size' of one of them can give you waves with a mixture of properties from both the single and dual case.\n",
        "-  The most dificult part was identifying the wave shape since the vector field was a little difficult to observe closely without going frame-by-frame.\n",
        "-  The most interesting part was what I first saw the video of the rotating dipole. It took me a while to figure out why it had both 'arms' of the spiral instead of the just one.\n",
        "-  Do the videos embed into colab for you? I have tried to use both Jupyter and colab and neither embedded (Jupyter didn't even load ffmpeg properly). I haven't tried it on Spyder though. <br>"
      ]
    },
    {
      "cell_type": "markdown",
      "id": "9485dbc5",
      "metadata": {
        "id": "9485dbc5"
      },
      "source": [
        "# Challenge Problems\n",
        "\n",
        "The challenge problems below ask you to extend the simulation above.  \n",
        "\n",
        "## Near Fields\n",
        "\n",
        "The simulations above only include the radiation field — the portion of the field that decreases as $1/r$.  Far from the source, this is the only part that matters.  Near the source, the other contributions to the electric field are the most important.\n",
        "\n",
        "Refer to Equation (9.39) in _CER_.  Try to plot the full electric field for the dipole\n",
        "\n",
        "$$\\vec{p} = p_0 \\, \\hat{e}_z \\, \\cos \\omega t$$\n",
        "\n",
        "\n",
        "## Multiple Sources\n",
        "\n",
        "In the code above, all of the dipoles are at the origin.  Adapt the code above to simulate the field of two dipoles at different locations.\n",
        "\n",
        "\n",
        "## 3D Plots\n",
        "\n",
        "Adapt the code to plot the field of a linear dipole or a rotating dipole in three dimensions.\n",
        "\n",
        "\n",
        "## Plot Everything\n",
        "\n",
        "Add the magnetic field and the Poynting vector to a 3D simulation!"
      ]
    },
    {
      "cell_type": "code",
      "execution_count": 30,
      "id": "a15b9da2",
      "metadata": {
        "id": "a15b9da2"
      },
      "outputs": [],
      "source": [
        "### No time - sorry!"
      ]
    },
    {
      "cell_type": "markdown",
      "id": "ff9edead",
      "metadata": {
        "id": "ff9edead"
      },
      "source": [
        "## A note on coordinates and formulae\n",
        "\n",
        "The simulation above uses spherical coordinates to match equations in textbooks.  However, this is not always convenient for simulating problems on a grid.  For instance, the equations for the fields assume the dipoles are at the origin.  If there are two dipoles at different locations, \"$\\hat{e}_r$\" and \"$\\hat{e}_\\theta$\" in the formulas are ***not*** the same vector for both dipoles.\n",
        "\n",
        "It might be easier to work in Cartesian coordinates.  The following relations may be useful if you attempt the challenge problems. If the location of the dipole is $(x_0, y_0, z_0)$, then the textbook formulae translate as follows.\n",
        "\n",
        "\\begin{align*}\n",
        "r &= \\sqrt{(x-x_0)^2 + (y-y_0)^2 + (z-z_0)^2} \\\\\n",
        "\\cos \\theta & = \\dfrac{z-z_0}{r} \\\\\n",
        "\\sin \\theta &= \\dfrac{\\sqrt{(x-x_0)^2 + (y-y_0)^2}}{r} \\\\\n",
        "\\cos \\phi &= \\dfrac{x-x_0}{\\sqrt{(x-x_0)^2+(y-y_0)^2}} \\\\\n",
        "\\sin \\phi &= \\dfrac{y-y_0}{\\sqrt{(x-x_0)^2+(y-y_0)^2}} \\\\\n",
        "\\hat{e}_r &= \\hat{e}_x \\, \\sin \\theta \\cos \\phi + \\hat{e}_y \\, \\sin \\theta \\sin \\phi + \\hat{e}_z \\, \\cos \\theta \\\\\n",
        "\\hat{e}_\\theta &= \\hat{e}_x \\, \\cos \\theta \\cos \\phi + \\hat{e}_y \\, \\cos \\theta \\sin \\phi - \\hat{e}_z \\sin \\theta \\\\\n",
        "\\hat{e}_\\phi &= -\\hat{e}_x \\, \\sin \\phi + \\hat{e}_y \\, \\cos \\phi\n",
        "\\end{align*}"
      ]
    }
  ],
  "metadata": {
    "kernelspec": {
      "display_name": "Python 3 (ipykernel)",
      "language": "python",
      "name": "python3"
    },
    "language_info": {
      "codemirror_mode": {
        "name": "ipython",
        "version": 3
      },
      "file_extension": ".py",
      "mimetype": "text/x-python",
      "name": "python",
      "nbconvert_exporter": "python",
      "pygments_lexer": "ipython3",
      "version": "3.10.6"
    },
    "colab": {
      "provenance": [],
      "collapsed_sections": [
        "9485dbc5"
      ],
      "include_colab_link": true
    }
  },
  "nbformat": 4,
  "nbformat_minor": 5
}